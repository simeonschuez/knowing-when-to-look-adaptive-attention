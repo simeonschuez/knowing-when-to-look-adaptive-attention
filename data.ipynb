{
 "cells": [
  {
   "cell_type": "code",
   "execution_count": 1,
   "metadata": {},
   "outputs": [
    {
     "name": "stderr",
     "output_type": "stream",
     "text": [
      "[nltk_data] Downloading package punkt to /home/vu48pok/nltk_data...\n",
      "[nltk_data]   Package punkt is already up-to-date!\n"
     ]
    }
   ],
   "source": [
    "from data_utils import get_karpathy_split\n",
    "from data_loader_captions import get_caption_loader\n",
    "from build_vocab import Vocabulary\n",
    "\n",
    "import nltk\n",
    "from string import punctuation\n",
    "from tqdm.autonotebook import tqdm\n",
    "\n",
    "import torchvision.transforms as transforms"
   ]
  },
  {
   "cell_type": "code",
   "execution_count": 2,
   "metadata": {},
   "outputs": [],
   "source": [
    "splits_path = '/home/vu48pok/.data/compling/data/corpora/external/MSCOCO/COCO/splits/karpathy/caption_datasets/'\n",
    "caps_path = '/home/vu48pok/.data/compling/data/corpora/external/MSCOCO/COCO/'\n",
    "image_dir = '/home/vu48pok/.data/compling/data/corpora/external/MSCOCO/COCO/'\n",
    "crop_size=224"
   ]
  },
  {
   "cell_type": "code",
   "execution_count": 3,
   "metadata": {},
   "outputs": [],
   "source": [
    "caps_df = get_karpathy_split(splits_path=splits_path, caps_path=caps_path)"
   ]
  },
  {
   "cell_type": "code",
   "execution_count": 4,
   "metadata": {},
   "outputs": [
    {
     "data": {
      "application/vnd.jupyter.widget-view+json": {
       "model_id": "c9fcf5f6c8cc4504a8606dc1e924fd74",
       "version_major": 2,
       "version_minor": 0
      },
      "text/plain": [
       "HBox(children=(FloatProgress(value=0.0, max=414113.0), HTML(value='')))"
      ]
     },
     "metadata": {},
     "output_type": "display_data"
    },
    {
     "name": "stdout",
     "output_type": "stream",
     "text": [
      "\n"
     ]
    }
   ],
   "source": [
    "vocab = Vocabulary()\n",
    "\n",
    "vocab.add_word('<pad>')\n",
    "vocab.add_word('<start>')\n",
    "vocab.add_word('<end>')\n",
    "vocab.add_word(vocab.unknown_token)\n",
    "\n",
    "train_caps = caps_df.loc[caps_df.split == 'train'].caption.to_list()\n",
    "for c in tqdm(train_caps):\n",
    "    c = c.casefold()\n",
    "    c = c.translate(str.maketrans('', '', punctuation))\n",
    "    for t in nltk.word_tokenize(c):\n",
    "        vocab.add_word(t)"
   ]
  },
  {
   "cell_type": "code",
   "execution_count": 5,
   "metadata": {},
   "outputs": [],
   "source": [
    "transform = transforms.Compose([\n",
    "        transforms.Resize((crop_size, crop_size)),\n",
    "        transforms.ToTensor(),\n",
    "        transforms.Normalize((0.485, 0.456, 0.406),\n",
    "                             (0.229, 0.224, 0.225))\n",
    "])"
   ]
  },
  {
   "cell_type": "code",
   "execution_count": 6,
   "metadata": {},
   "outputs": [],
   "source": [
    "loader = get_caption_loader(\n",
    "    decoding_level='word', \n",
    "    split='train',\n",
    "    data_df=caps_df, \n",
    "    image_dir=image_dir, \n",
    "    vocab=vocab,\n",
    "    transform=transform, \n",
    "    batch_size=32, \n",
    "    shuffle=False,\n",
    "    num_workers=2, \n",
    "    drop_last=False   \n",
    ")"
   ]
  },
  {
   "cell_type": "code",
   "execution_count": 15,
   "metadata": {},
   "outputs": [
    {
     "data": {
      "text/html": [
       "<div>\n",
       "<style scoped>\n",
       "    .dataframe tbody tr th:only-of-type {\n",
       "        vertical-align: middle;\n",
       "    }\n",
       "\n",
       "    .dataframe tbody tr th {\n",
       "        vertical-align: top;\n",
       "    }\n",
       "\n",
       "    .dataframe thead th {\n",
       "        text-align: right;\n",
       "    }\n",
       "</style>\n",
       "<table border=\"1\" class=\"dataframe\">\n",
       "  <thead>\n",
       "    <tr style=\"text-align: right;\">\n",
       "      <th></th>\n",
       "      <th>image_id</th>\n",
       "      <th>caption</th>\n",
       "      <th>coco_split</th>\n",
       "      <th>split</th>\n",
       "    </tr>\n",
       "    <tr>\n",
       "      <th>id</th>\n",
       "      <th></th>\n",
       "      <th></th>\n",
       "      <th></th>\n",
       "      <th></th>\n",
       "    </tr>\n",
       "  </thead>\n",
       "  <tbody>\n",
       "    <tr>\n",
       "      <th>48</th>\n",
       "      <td>318556</td>\n",
       "      <td>A very clean and well decorated empty bathroom</td>\n",
       "      <td>train</td>\n",
       "      <td>train</td>\n",
       "    </tr>\n",
       "    <tr>\n",
       "      <th>67</th>\n",
       "      <td>116100</td>\n",
       "      <td>A panoramic view of a kitchen and all of its a...</td>\n",
       "      <td>train</td>\n",
       "      <td>train</td>\n",
       "    </tr>\n",
       "    <tr>\n",
       "      <th>126</th>\n",
       "      <td>318556</td>\n",
       "      <td>A blue and white bathroom with butterfly theme...</td>\n",
       "      <td>train</td>\n",
       "      <td>train</td>\n",
       "    </tr>\n",
       "    <tr>\n",
       "      <th>148</th>\n",
       "      <td>116100</td>\n",
       "      <td>A panoramic photo of a kitchen and dining room</td>\n",
       "      <td>train</td>\n",
       "      <td>train</td>\n",
       "    </tr>\n",
       "    <tr>\n",
       "      <th>173</th>\n",
       "      <td>379340</td>\n",
       "      <td>A graffiti-ed stop sign across the street from...</td>\n",
       "      <td>train</td>\n",
       "      <td>train</td>\n",
       "    </tr>\n",
       "    <tr>\n",
       "      <th>...</th>\n",
       "      <td>...</td>\n",
       "      <td>...</td>\n",
       "      <td>...</td>\n",
       "      <td>...</td>\n",
       "    </tr>\n",
       "    <tr>\n",
       "      <th>828740</th>\n",
       "      <td>401092</td>\n",
       "      <td>A plate of food and a beverage are on a table.</td>\n",
       "      <td>val</td>\n",
       "      <td>restval</td>\n",
       "    </tr>\n",
       "    <tr>\n",
       "      <th>828842</th>\n",
       "      <td>401092</td>\n",
       "      <td>This is an open faced sandwich with several co...</td>\n",
       "      <td>val</td>\n",
       "      <td>restval</td>\n",
       "    </tr>\n",
       "    <tr>\n",
       "      <th>828909</th>\n",
       "      <td>555904</td>\n",
       "      <td>People eating in a restaurant near wine bottles.</td>\n",
       "      <td>val</td>\n",
       "      <td>restval</td>\n",
       "    </tr>\n",
       "    <tr>\n",
       "      <th>829139</th>\n",
       "      <td>6177</td>\n",
       "      <td>The scissors with black handles are sitting open.</td>\n",
       "      <td>val</td>\n",
       "      <td>restval</td>\n",
       "    </tr>\n",
       "    <tr>\n",
       "      <th>829317</th>\n",
       "      <td>47720</td>\n",
       "      <td>a cup of coffee sits next to a panini sandwich...</td>\n",
       "      <td>val</td>\n",
       "      <td>restval</td>\n",
       "    </tr>\n",
       "  </tbody>\n",
       "</table>\n",
       "<p>616767 rows × 4 columns</p>\n",
       "</div>"
      ],
      "text/plain": [
       "        image_id                                            caption  \\\n",
       "id                                                                    \n",
       "48        318556     A very clean and well decorated empty bathroom   \n",
       "67        116100  A panoramic view of a kitchen and all of its a...   \n",
       "126       318556  A blue and white bathroom with butterfly theme...   \n",
       "148       116100     A panoramic photo of a kitchen and dining room   \n",
       "173       379340  A graffiti-ed stop sign across the street from...   \n",
       "...          ...                                                ...   \n",
       "828740    401092     A plate of food and a beverage are on a table.   \n",
       "828842    401092  This is an open faced sandwich with several co...   \n",
       "828909    555904   People eating in a restaurant near wine bottles.   \n",
       "829139      6177  The scissors with black handles are sitting open.   \n",
       "829317     47720  a cup of coffee sits next to a panini sandwich...   \n",
       "\n",
       "       coco_split    split  \n",
       "id                          \n",
       "48          train    train  \n",
       "67          train    train  \n",
       "126         train    train  \n",
       "148         train    train  \n",
       "173         train    train  \n",
       "...           ...      ...  \n",
       "828740        val  restval  \n",
       "828842        val  restval  \n",
       "828909        val  restval  \n",
       "829139        val  restval  \n",
       "829317        val  restval  \n",
       "\n",
       "[616767 rows x 4 columns]"
      ]
     },
     "execution_count": 15,
     "metadata": {},
     "output_type": "execute_result"
    }
   ],
   "source": [
    "caps_df"
   ]
  },
  {
   "cell_type": "code",
   "execution_count": 11,
   "metadata": {},
   "outputs": [],
   "source": [
    "for i, data in enumerate(loader):\n",
    "    d = data\n",
    "    if i > 0:\n",
    "        break"
   ]
  },
  {
   "cell_type": "code",
   "execution_count": 12,
   "metadata": {},
   "outputs": [],
   "source": [
    "images, targets, lengths = d"
   ]
  },
  {
   "cell_type": "code",
   "execution_count": 17,
   "metadata": {},
   "outputs": [],
   "source": [
    "from torch.nn.utils.rnn import pack_padded_sequence"
   ]
  },
  {
   "cell_type": "code",
   "execution_count": 26,
   "metadata": {},
   "outputs": [
    {
     "data": {
      "text/plain": [
       "tensor([[  4,  15,  21,   4,  63,  64, 105,  86,  21, 213, 214,   4, 215,   4,\n",
       "          57,   7,   4, 216,   2],\n",
       "        [ 26,  14,   4, 171, 139,  48, 242, 243, 129,  80, 244, 245, 163, 246,\n",
       "          33, 247, 248, 249,   2],\n",
       "        [  4, 175, 176,   7,   4, 171, 177, 178,   4, 179,  40,   4, 180, 129,\n",
       "           2,   0,   0,   0,   0],\n",
       "        [  4, 171, 199, 111,   4,  15, 200,  78,   4,  28, 201, 101, 202,   2,\n",
       "           0,   0,   0,   0,   0],\n",
       "        [  4,  61, 115, 223,  48, 224, 225, 209, 226,  40,  33,  11,  64,   2,\n",
       "           0,   0,   0,   0,   0],\n",
       "        [  4,  98,  40,   4, 129, 130, 139,  78, 121,  14,   4,  37,   2,   0,\n",
       "           0,   0,   0,   0,   0],\n",
       "        [253, 130, 254, 255, 109,  78,  33,  64,  78,  48,  10,  15,   2,   0,\n",
       "           0,   0,   0,   0,   0],\n",
       "        [ 33, 260,  14,   4,  15, 154, 261,  21, 262, 263,   7, 264,   2,   0,\n",
       "           0,   0,   0,   0,   0],\n",
       "        [  4,  91, 130, 265, 266, 225, 209, 226,  40,   4, 267, 132,   2,   0,\n",
       "           0,   0,   0,   0,   0],\n",
       "        [  4, 115, 250, 251,   4,  37, 119,  65, 130, 252,  55,   2,   0,   0,\n",
       "           0,   0,   0,   0,   0],\n",
       "        [  4, 166,  14,   4,  36, 167, 168, 169,  33, 170,   2,   0,   0,   0,\n",
       "           0,   0,   0,   0,   0],\n",
       "        [  4, 171, 172,  78,  33,  15,  21, 162, 173, 174,   2,   0,   0,   0,\n",
       "           0,   0,   0,   0,   0],\n",
       "        [ 48, 181,  65, 130,  78, 121,  14,   4, 182, 183,   2,   0,   0,   0,\n",
       "           0,   0,   0,   0,   0],\n",
       "        [  6,  11,  65, 130, 188, 189,   7, 105,   4, 119,   2,   0,   0,   0,\n",
       "           0,   0,   0,   0,   0],\n",
       "        [ 52, 172, 194, 195, 196, 197,  76,  40,  33, 198,   2,   0,   0,   0,\n",
       "           0,   0,   0,   0,   0],\n",
       "        [207, 208, 127, 209, 210,  77,  78,   4, 211, 212,   2,   0,   0,   0,\n",
       "           0,   0,   0,   0,   0],\n",
       "        [ 33, 268, 130, 269,  14, 270, 271, 186,   4, 272,   2,   0,   0,   0,\n",
       "           0,   0,   0,   0,   0],\n",
       "        [ 51, 159, 111,   4,  20, 160,  56,  21, 161,   2,   0,   0,   0,   0,\n",
       "           0,   0,   0,   0,   0],\n",
       "        [  6, 164,  11,  21, 124,  64,   7, 165, 128,   2,   0,   0,   0,   0,\n",
       "           0,   0,   0,   0,   0],\n",
       "        [184,  82,   4, 185,  54, 186, 187,   4, 171,   2,   0,   0,   0,   0,\n",
       "           0,   0,   0,   0,   0],\n",
       "        [  4, 190, 191,  13,  14,  33,  15, 192, 193,   2,   0,   0,   0,   0,\n",
       "           0,   0,   0,   0,   0],\n",
       "        [  4, 171, 172,  78,   4,  15,  21, 203, 204,   2,   0,   0,   0,   0,\n",
       "           0,   0,   0,   0,   0],\n",
       "        [  4, 217,  11,  69, 195, 218,   7,  63, 219,   2,   0,   0,   0,   0,\n",
       "           0,   0,   0,   0,   0],\n",
       "        [  4,   6, 227, 228,  11,  21,   4, 229,  57,   2,   0,   0,   0,   0,\n",
       "           0,   0,   0,   0,   0],\n",
       "        [  4,  15, 200, 130, 201, 101,   4, 230, 114,   2,   0,   0,   0,   0,\n",
       "           0,   0,   0,   0,   0],\n",
       "        [  4, 237, 238,  58, 105, 239, 240,  78, 241,   2,   0,   0,   0,   0,\n",
       "           0,   0,   0,   0,   0],\n",
       "        [  4,  90, 139, 162, 140, 163,  33,  56,   2,   0,   0,   0,   0,   0,\n",
       "           0,   0,   0,   0,   0],\n",
       "        [  4, 205, 134, 130, 135,  78,   4, 206,   2,   0,   0,   0,   0,   0,\n",
       "           0,   0,   0,   0,   0],\n",
       "        [  4, 220,  14,   4,   8, 221, 222,  11,   2,   0,   0,   0,   0,   0,\n",
       "           0,   0,   0,   0,   0],\n",
       "        [  4, 231, 232, 130, 233,  21, 234, 235,   2,   0,   0,   0,   0,   0,\n",
       "           0,   0,   0,   0,   0],\n",
       "        [  4,  11,  21,   4, 236,  80,  33, 153,   2,   0,   0,   0,   0,   0,\n",
       "           0,   0,   0,   0,   0],\n",
       "        [  4, 256, 257, 258,  78, 126, 259,   2,   0,   0,   0,   0,   0,   0,\n",
       "           0,   0,   0,   0,   0]])"
      ]
     },
     "execution_count": 26,
     "metadata": {},
     "output_type": "execute_result"
    }
   ],
   "source": [
    "targets[:, 1:]"
   ]
  },
  {
   "cell_type": "code",
   "execution_count": 27,
   "metadata": {},
   "outputs": [
    {
     "name": "stdout",
     "output_type": "stream",
     "text": [
      "a kitchen with a tile floor has cabinets with no doors a dishwasher a sink and a refrigerator <end>\n",
      "photo of a man riding an old styled bicycle near what appears to be the golden gate bridge <end>\n",
      "a purple bus and a man dressed as a nun on a tall bicycle <end> <pad> <pad> <pad> <pad>\n",
      "a man working at a kitchen counter in a room illuminated by sunlight <end> <pad> <pad> <pad> <pad> <pad>\n",
      "a black cat making an angry face while sitting on the bathroom floor <end> <pad> <pad> <pad> <pad> <pad>\n",
      "a person on a bicycle is riding in front of a car <end> <pad> <pad> <pad> <pad> <pad> <pad>\n",
      "there is some pet food in the floor in an empty kitchen <end> <pad> <pad> <pad> <pad> <pad> <pad>\n",
      "the top of a kitchen cabinet covered with brass pots and pans <end> <pad> <pad> <pad> <pad> <pad> <pad>\n",
      "a woman is shaving her face while sitting on a wooden bench <end> <pad> <pad> <pad> <pad> <pad> <pad>\n",
      "a cat peeking out a car window that is rolled down <end> <pad> <pad> <pad> <pad> <pad> <pad> <pad>\n",
      "a closeup of a red fire hydrant including the chains <end> <pad> <pad> <pad> <pad> <pad> <pad> <pad> <pad>\n",
      "a man standing in the kitchen with his arms crossed <end> <pad> <pad> <pad> <pad> <pad> <pad> <pad> <pad>\n",
      "an herb that is in front of a toaster oven <end> <pad> <pad> <pad> <pad> <pad> <pad> <pad> <pad>\n",
      "clean bathroom that is brightly colored and has a window <end> <pad> <pad> <pad> <pad> <pad> <pad> <pad> <pad>\n",
      "people standing around many silver round balls on the ground <end> <pad> <pad> <pad> <pad> <pad> <pad> <pad> <pad>\n",
      "seagulls flying overhead while trucks sit in a parking lot <end> <pad> <pad> <pad> <pad> <pad> <pad> <pad> <pad>\n",
      "the sky is full of colorful kites along a mountain <end> <pad> <pad> <pad> <pad> <pad> <pad> <pad> <pad>\n",
      "two teenagers at a white sanded beach with surfboards <end> <pad> <pad> <pad> <pad> <pad> <pad> <pad> <pad> <pad>\n",
      "clean indoor bathroom with tiled floor and good lighting <end> <pad> <pad> <pad> <pad> <pad> <pad> <pad> <pad> <pad>\n",
      "lady carrying a purse walking along side a man <end> <pad> <pad> <pad> <pad> <pad> <pad> <pad> <pad> <pad>\n",
      "a wide angle view of the kitchen work area <end> <pad> <pad> <pad> <pad> <pad> <pad> <pad> <pad> <pad>\n",
      "a man standing in a kitchen with granite countertops <end> <pad> <pad> <pad> <pad> <pad> <pad> <pad> <pad> <pad>\n",
      "a modern bathroom contains many glass and tile pieces <end> <pad> <pad> <pad> <pad> <pad> <pad> <pad> <pad> <pad>\n",
      "a clean mediocre motel bathroom with a nice sink <end> <pad> <pad> <pad> <pad> <pad> <pad> <pad> <pad> <pad>\n",
      "a kitchen counter is illuminated by a hood light <end> <pad> <pad> <pad> <pad> <pad> <pad> <pad> <pad> <pad>\n",
      "a public restroom toilet has been photographed in sepia <end> <pad> <pad> <pad> <pad> <pad> <pad> <pad> <pad> <pad>\n",
      "a surfer riding his bike to the beach <end> <pad> <pad> <pad> <pad> <pad> <pad> <pad> <pad> <pad> <pad>\n",
      "a skinny horse is grazing in a field <end> <pad> <pad> <pad> <pad> <pad> <pad> <pad> <pad> <pad> <pad>\n",
      "a demonstration of a well maintained hotel bathroom <end> <pad> <pad> <pad> <pad> <pad> <pad> <pad> <pad> <pad> <pad>\n",
      "a city sidewalk is lined with lamp posts <end> <pad> <pad> <pad> <pad> <pad> <pad> <pad> <pad> <pad> <pad>\n",
      "a bathroom with a tv near the mirror <end> <pad> <pad> <pad> <pad> <pad> <pad> <pad> <pad> <pad> <pad>\n",
      "a young boy surfing in low waves <end> <pad> <pad> <pad> <pad> <pad> <pad> <pad> <pad> <pad> <pad> <pad>\n"
     ]
    }
   ],
   "source": [
    "for t in targets[:,1:]:\n",
    "    print(' '.join([vocab.idx2word[i.item()] for i in t]))"
   ]
  },
  {
   "cell_type": "code",
   "execution_count": null,
   "metadata": {},
   "outputs": [],
   "source": []
  }
 ],
 "metadata": {
  "kernelspec": {
   "display_name": "spacy",
   "language": "python",
   "name": "spacy"
  },
  "language_info": {
   "codemirror_mode": {
    "name": "ipython",
    "version": 3
   },
   "file_extension": ".py",
   "mimetype": "text/x-python",
   "name": "python",
   "nbconvert_exporter": "python",
   "pygments_lexer": "ipython3",
   "version": "3.6.7"
  }
 },
 "nbformat": 4,
 "nbformat_minor": 4
}
